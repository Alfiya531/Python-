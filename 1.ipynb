{
 "cells": [
  {
   "cell_type": "code",
   "execution_count": 2,
   "id": "da42e77a",
   "metadata": {},
   "outputs": [
    {
     "name": "stdout",
     "output_type": "stream",
     "text": [
      "Enter the Number : 0\n",
      "Reversed number is :  0\n",
      "Sum of digits is :  0\n"
     ]
    }
   ],
   "source": [
    "try:\n",
    "    num_ee009=int(input(\"Enter the Number : \"))     # KTU ID :CEA20EE009   -  20009\n",
    "\n",
    "except Value_Error:\n",
    "    print(\"Error\")\n",
    "    \n",
    "s_ee009=0\n",
    "sum_ee009=0\n",
    "\n",
    "while num_ee009>0:\n",
    "        reminder_ee009= num_ee009%10\n",
    "        sum_ee009=sum_ee009+reminder_ee009\n",
    "        s_ee009=s_ee009*10+reminder_ee009\n",
    "        num_ee009=num_ee009//10\n",
    "        \n",
    "print(\"Reversed number is : \",s_ee009)\n",
    "print(\"Sum of digits is : \",sum_ee009)\n",
    "\n",
    "\n"
   ]
  },
  {
   "cell_type": "code",
   "execution_count": null,
   "id": "6a50572c",
   "metadata": {},
   "outputs": [],
   "source": []
  }
 ],
 "metadata": {
  "kernelspec": {
   "display_name": "Python 3 (ipykernel)",
   "language": "python",
   "name": "python3"
  },
  "language_info": {
   "codemirror_mode": {
    "name": "ipython",
    "version": 3
   },
   "file_extension": ".py",
   "mimetype": "text/x-python",
   "name": "python",
   "nbconvert_exporter": "python",
   "pygments_lexer": "ipython3",
   "version": "3.8.5"
  }
 },
 "nbformat": 4,
 "nbformat_minor": 5
}
