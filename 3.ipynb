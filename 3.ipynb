{
 "cells": [
  {
   "cell_type": "code",
   "execution_count": 1,
   "id": "0953a60c",
   "metadata": {},
   "outputs": [],
   "source": [
    "#NAME : ALFIYA.A.H"
   ]
  },
  {
   "cell_type": "code",
   "execution_count": 2,
   "id": "613751ec",
   "metadata": {},
   "outputs": [],
   "source": [
    "#ROLL NO: 8"
   ]
  },
  {
   "cell_type": "code",
   "execution_count": 3,
   "id": "cbcd9410",
   "metadata": {},
   "outputs": [],
   "source": [
    "#KTU ID: CEA20EE009"
   ]
  },
  {
   "cell_type": "code",
   "execution_count": 12,
   "id": "52e84274",
   "metadata": {},
   "outputs": [
    {
     "name": "stdout",
     "output_type": "stream",
     "text": [
      "Vowels: 15\n",
      "Consonant: 32\n",
      "Digit: 0\n",
      "Special Character: 9\n"
     ]
    }
   ],
   "source": [
    "def countCharacterType(str): \n",
    " \n",
    "    vowels_ee009 = 0 \n",
    "    consonant_ee009 = 0 \n",
    "    specialChar_ee009 = 0 \n",
    "    digit_ee009 = 0 \n",
    " \n",
    "    for i in range(0, len(str)): \n",
    "         \n",
    "        ch_ee009 = str[i] \n",
    " \n",
    "        if ( (ch_ee009 >= 'a' and ch_ee009 <= 'z') or \n",
    "             (ch_ee009 >= 'A' and ch_ee009 <= 'Z') ): \n",
    " \n",
    "            ch_ee009 = ch_ee009.lower() \n",
    " \n",
    "            if (ch_ee009 == 'a' or ch_ee009 == 'e' or ch_ee009 == 'i' \n",
    "                        or ch_ee009 == 'o' or ch_ee009 == 'u'): \n",
    "                vowels_ee009 += 1 \n",
    "            else: \n",
    "                consonant_ee009 += 1 \n",
    "         \n",
    "        elif (ch_ee009 >= '0' and ch_ee009 <= '9'): \n",
    "            digit_ee009 += 1 \n",
    "        else: \n",
    "            specialChar_ee009 += 1 \n",
    "     \n",
    "    print(\"Vowels:\", vowels_ee009) \n",
    "    print(\"Consonant:\", consonant_ee009) \n",
    "    print(\"Digit:\", digit_ee009) \n",
    "    print(\"Special Character:\", specialChar_ee009) \n",
    " \n",
    "str = \"Power corrupts the few,while weakness corrupts the many.\" \n",
    "countCharacterType(str)"
   ]
  },
  {
   "cell_type": "code",
   "execution_count": null,
   "id": "59b0f649",
   "metadata": {},
   "outputs": [],
   "source": []
  }
 ],
 "metadata": {
  "kernelspec": {
   "display_name": "Python 3 (ipykernel)",
   "language": "python",
   "name": "python3"
  },
  "language_info": {
   "codemirror_mode": {
    "name": "ipython",
    "version": 3
   },
   "file_extension": ".py",
   "mimetype": "text/x-python",
   "name": "python",
   "nbconvert_exporter": "python",
   "pygments_lexer": "ipython3",
   "version": "3.8.5"
  }
 },
 "nbformat": 4,
 "nbformat_minor": 5
}
