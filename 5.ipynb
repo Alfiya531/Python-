{
 "cells": [
  {
   "cell_type": "code",
   "execution_count": 1,
   "id": "88221b5b",
   "metadata": {},
   "outputs": [],
   "source": [
    "# NAME : ALFIYA A H"
   ]
  },
  {
   "cell_type": "code",
   "execution_count": 2,
   "id": "0abfc283",
   "metadata": {},
   "outputs": [],
   "source": [
    "# ROLL NO : 8"
   ]
  },
  {
   "cell_type": "code",
   "execution_count": 3,
   "id": "337a410c",
   "metadata": {},
   "outputs": [],
   "source": [
    "# KTU ID : CEA20EE009"
   ]
  },
  {
   "cell_type": "code",
   "execution_count": 4,
   "id": "e1f9b4ef",
   "metadata": {},
   "outputs": [],
   "source": [
    "#Input : 20009 * 5 = 100045   (Date of Birth : 05/03/2001)"
   ]
  },
  {
   "cell_type": "code",
   "execution_count": 6,
   "id": "28f06b48",
   "metadata": {},
   "outputs": [
    {
     "name": "stdout",
     "output_type": "stream",
     "text": [
      "enter the number:100045\n",
      "6\n"
     ]
    }
   ],
   "source": [
    "#input 100045(ktu id:cea20ee009) date of birth:05/03/2001\n",
    "try:\n",
    "    n_ee009=int(input(\"enter the number:\"))\n",
    "    if n_ee009 >0:\n",
    "        num_ee009=n_ee009\n",
    "    else:\n",
    "        num_ee009=-(n_ee009)\n",
    "    def digit(num_ee009):\n",
    "        count_ee009=0\n",
    "        while num_ee009>0:\n",
    "                      \n",
    "            reminder_ee009=num_ee009%10\n",
    "            count_ee009=count_ee009+1\n",
    "            num_ee009=num_ee009//10\n",
    "                      \n",
    "        return(count_ee009)\n",
    "    print(digit(num_ee009))\n",
    "                      \n",
    "except ValueError:\n",
    "        print(\"error\")"
   ]
  },
  {
   "cell_type": "code",
   "execution_count": null,
   "id": "722f1ca2",
   "metadata": {},
   "outputs": [],
   "source": []
  }
 ],
 "metadata": {
  "kernelspec": {
   "display_name": "Python 3 (ipykernel)",
   "language": "python",
   "name": "python3"
  },
  "language_info": {
   "codemirror_mode": {
    "name": "ipython",
    "version": 3
   },
   "file_extension": ".py",
   "mimetype": "text/x-python",
   "name": "python",
   "nbconvert_exporter": "python",
   "pygments_lexer": "ipython3",
   "version": "3.8.5"
  }
 },
 "nbformat": 4,
 "nbformat_minor": 5
}
