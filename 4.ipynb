{
 "cells": [
  {
   "cell_type": "code",
   "execution_count": 1,
   "id": "aa32d34d",
   "metadata": {},
   "outputs": [
    {
     "name": "stdout",
     "output_type": "stream",
     "text": [
      "Enter the year : 20009\n",
      "20009  is not a leap year. \n"
     ]
    }
   ],
   "source": [
    "try:\n",
    "    \n",
    "    year_ee009=int(input(\"Enter the year : \"))         #Input 20009 (KTU ID :CEA20EE009)\n",
    "    \n",
    "    if (year_ee009%4)==0:\n",
    "        print(year_ee009,\" is a leap year.\")\n",
    "        \n",
    "    else:\n",
    "        print(year_ee009,\" is not a leap year. \")\n",
    "        \n",
    "except valueError:\n",
    "    print(\"Invalid\")\n",
    "    \n",
    "    "
   ]
  },
  {
   "cell_type": "code",
   "execution_count": null,
   "id": "8b33f113",
   "metadata": {},
   "outputs": [],
   "source": []
  }
 ],
 "metadata": {
  "kernelspec": {
   "display_name": "Python 3 (ipykernel)",
   "language": "python",
   "name": "python3"
  },
  "language_info": {
   "codemirror_mode": {
    "name": "ipython",
    "version": 3
   },
   "file_extension": ".py",
   "mimetype": "text/x-python",
   "name": "python",
   "nbconvert_exporter": "python",
   "pygments_lexer": "ipython3",
   "version": "3.8.5"
  }
 },
 "nbformat": 4,
 "nbformat_minor": 5
}
