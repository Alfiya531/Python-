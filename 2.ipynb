{
 "cells": [
  {
   "cell_type": "code",
   "execution_count": 3,
   "id": "6a4f27e6",
   "metadata": {},
   "outputs": [
    {
     "name": "stdout",
     "output_type": "stream",
     "text": [
      "Enter a value : 9\n",
      "The value of 22n +n +5 when n = 9.0 is :  212.0\n"
     ]
    }
   ],
   "source": [
    "try:\n",
    "    n_ee009=float(input(\"Enter a value : \"))               # Input : 9 (KTU ID : CEA20EE009 - 9)\n",
    "    \n",
    "    value_ee009=22*n_ee009 +n_ee009 +5\n",
    "    \n",
    "    print(\"The value of 22n +n +5 when n =\",n_ee009, \"is : \",value_ee009 )\n",
    "    \n",
    "except ValueError:\n",
    "    print(\"Invalid\")"
   ]
  },
  {
   "cell_type": "code",
   "execution_count": null,
   "id": "0fac8b50",
   "metadata": {},
   "outputs": [],
   "source": []
  }
 ],
 "metadata": {
  "kernelspec": {
   "display_name": "Python 3 (ipykernel)",
   "language": "python",
   "name": "python3"
  },
  "language_info": {
   "codemirror_mode": {
    "name": "ipython",
    "version": 3
   },
   "file_extension": ".py",
   "mimetype": "text/x-python",
   "name": "python",
   "nbconvert_exporter": "python",
   "pygments_lexer": "ipython3",
   "version": "3.8.5"
  }
 },
 "nbformat": 4,
 "nbformat_minor": 5
}
